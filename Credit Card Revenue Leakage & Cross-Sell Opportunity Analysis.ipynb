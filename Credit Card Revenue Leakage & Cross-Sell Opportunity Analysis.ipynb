{
 "cells": [
  {
   "cell_type": "markdown",
   "id": "29432ec0-3f3a-43d7-bfe6-21d2d15856d6",
   "metadata": {},
   "source": [
    "<h1><span style=\"font-size:34px\">Credit Card Revenue Leakage & Cross-Sell Opportunity Analysis</span></h1>\n"
   ]
  },
  {
   "cell_type": "markdown",
   "id": "d64d5051-6204-4bfa-b602-cb38d138c593",
   "metadata": {},
   "source": [
    "***\n",
    "## Business Context:\n",
    "## Banks often lose revenue due to inactive cards or low spenders. Your job is to analyze usage patterns and identify revenue leakage and cross-sell segments.\n",
    "***"
   ]
  },
  {
   "cell_type": "code",
   "execution_count": 2,
   "id": "8a7cb826-ae87-4b2d-90e9-5201cbfb21c2",
   "metadata": {},
   "outputs": [],
   "source": [
    "# Import all essential libraries\n",
    "import pandas as pd\n",
    "import numpy as np\n",
    "import matplotlib.pyplot as plt\n",
    "import seaborn as sns\n",
    "import plotly.express as px\n",
    "import warnings\n",
    "warnings.filterwarnings(\"ignore\")\n",
    "\n",
    "# Display settings for large outputs\n",
    "pd.set_option('display.max_columns', None)"
   ]
  },
  {
   "cell_type": "code",
   "execution_count": 6,
   "id": "d81410ee-8c9d-4bb3-a161-c09b6e1577e5",
   "metadata": {},
   "outputs": [
    {
     "data": {
      "text/html": [
       "<div>\n",
       "<style scoped>\n",
       "    .dataframe tbody tr th:only-of-type {\n",
       "        vertical-align: middle;\n",
       "    }\n",
       "\n",
       "    .dataframe tbody tr th {\n",
       "        vertical-align: top;\n",
       "    }\n",
       "\n",
       "    .dataframe thead th {\n",
       "        text-align: right;\n",
       "    }\n",
       "</style>\n",
       "<table border=\"1\" class=\"dataframe\">\n",
       "  <thead>\n",
       "    <tr style=\"text-align: right;\">\n",
       "      <th></th>\n",
       "      <th>customer_id</th>\n",
       "      <th>card_type</th>\n",
       "      <th>monthly_spend</th>\n",
       "      <th>payment_behavior</th>\n",
       "      <th>fees_charged</th>\n",
       "      <th>late_fees_collected</th>\n",
       "      <th>income_bracket</th>\n",
       "      <th>customer_lifetime_months</th>\n",
       "      <th>occupation</th>\n",
       "      <th>is_active</th>\n",
       "      <th>credit_limit</th>\n",
       "      <th>transactions_last_month</th>\n",
       "    </tr>\n",
       "  </thead>\n",
       "  <tbody>\n",
       "    <tr>\n",
       "      <th>0</th>\n",
       "      <td>CUST149899</td>\n",
       "      <td>Titanium</td>\n",
       "      <td>1828.26</td>\n",
       "      <td>Minimum Due</td>\n",
       "      <td>461.85</td>\n",
       "      <td>82.12</td>\n",
       "      <td>High</td>\n",
       "      <td>60</td>\n",
       "      <td>Self-Employed</td>\n",
       "      <td>1</td>\n",
       "      <td>64000</td>\n",
       "      <td>25</td>\n",
       "    </tr>\n",
       "    <tr>\n",
       "      <th>1</th>\n",
       "      <td>CUST124585</td>\n",
       "      <td>Platinum</td>\n",
       "      <td>11301.76</td>\n",
       "      <td>Late</td>\n",
       "      <td>478.72</td>\n",
       "      <td>66.95</td>\n",
       "      <td>Medium</td>\n",
       "      <td>22</td>\n",
       "      <td>Self-Employed</td>\n",
       "      <td>1</td>\n",
       "      <td>110000</td>\n",
       "      <td>23</td>\n",
       "    </tr>\n",
       "    <tr>\n",
       "      <th>2</th>\n",
       "      <td>CUST105721</td>\n",
       "      <td>Gold</td>\n",
       "      <td>20808.79</td>\n",
       "      <td>Full Payment</td>\n",
       "      <td>473.63</td>\n",
       "      <td>48.34</td>\n",
       "      <td>Low</td>\n",
       "      <td>101</td>\n",
       "      <td>Retired</td>\n",
       "      <td>1</td>\n",
       "      <td>169000</td>\n",
       "      <td>28</td>\n",
       "    </tr>\n",
       "    <tr>\n",
       "      <th>3</th>\n",
       "      <td>CUST152960</td>\n",
       "      <td>Gold</td>\n",
       "      <td>2411.97</td>\n",
       "      <td>On-Time</td>\n",
       "      <td>555.68</td>\n",
       "      <td>123.99</td>\n",
       "      <td>Medium</td>\n",
       "      <td>91</td>\n",
       "      <td>Retired</td>\n",
       "      <td>0</td>\n",
       "      <td>88000</td>\n",
       "      <td>5</td>\n",
       "    </tr>\n",
       "    <tr>\n",
       "      <th>4</th>\n",
       "      <td>CUST134069</td>\n",
       "      <td>Platinum</td>\n",
       "      <td>6888.45</td>\n",
       "      <td>On-Time</td>\n",
       "      <td>420.43</td>\n",
       "      <td>118.15</td>\n",
       "      <td>Low</td>\n",
       "      <td>11</td>\n",
       "      <td>Retired</td>\n",
       "      <td>1</td>\n",
       "      <td>112000</td>\n",
       "      <td>17</td>\n",
       "    </tr>\n",
       "    <tr>\n",
       "      <th>5</th>\n",
       "      <td>CUST114225</td>\n",
       "      <td>Gold</td>\n",
       "      <td>4453.88</td>\n",
       "      <td>Full Payment</td>\n",
       "      <td>335.30</td>\n",
       "      <td>23.40</td>\n",
       "      <td>High</td>\n",
       "      <td>103</td>\n",
       "      <td>Salaried</td>\n",
       "      <td>1</td>\n",
       "      <td>161000</td>\n",
       "      <td>31</td>\n",
       "    </tr>\n",
       "    <tr>\n",
       "      <th>6</th>\n",
       "      <td>CUST110385</td>\n",
       "      <td>Silver</td>\n",
       "      <td>296.33</td>\n",
       "      <td>Late</td>\n",
       "      <td>428.56</td>\n",
       "      <td>47.85</td>\n",
       "      <td>High</td>\n",
       "      <td>103</td>\n",
       "      <td>Student</td>\n",
       "      <td>1</td>\n",
       "      <td>136000</td>\n",
       "      <td>30</td>\n",
       "    </tr>\n",
       "    <tr>\n",
       "      <th>7</th>\n",
       "      <td>CUST122986</td>\n",
       "      <td>Silver</td>\n",
       "      <td>2955.51</td>\n",
       "      <td>On-Time</td>\n",
       "      <td>509.21</td>\n",
       "      <td>40.27</td>\n",
       "      <td>Very High</td>\n",
       "      <td>113</td>\n",
       "      <td>Salaried</td>\n",
       "      <td>1</td>\n",
       "      <td>214000</td>\n",
       "      <td>6</td>\n",
       "    </tr>\n",
       "    <tr>\n",
       "      <th>8</th>\n",
       "      <td>CUST139069</td>\n",
       "      <td>Silver</td>\n",
       "      <td>19882.33</td>\n",
       "      <td>Late</td>\n",
       "      <td>490.73</td>\n",
       "      <td>NaN</td>\n",
       "      <td>High</td>\n",
       "      <td>99</td>\n",
       "      <td>Salaried</td>\n",
       "      <td>1</td>\n",
       "      <td>114000</td>\n",
       "      <td>30</td>\n",
       "    </tr>\n",
       "    <tr>\n",
       "      <th>9</th>\n",
       "      <td>CUST142230</td>\n",
       "      <td>Silver</td>\n",
       "      <td>NaN</td>\n",
       "      <td>Late</td>\n",
       "      <td>647.32</td>\n",
       "      <td>NaN</td>\n",
       "      <td>High</td>\n",
       "      <td>61</td>\n",
       "      <td>Retired</td>\n",
       "      <td>1</td>\n",
       "      <td>229000</td>\n",
       "      <td>13</td>\n",
       "    </tr>\n",
       "  </tbody>\n",
       "</table>\n",
       "</div>"
      ],
      "text/plain": [
       "  customer_id card_type  monthly_spend payment_behavior  fees_charged  \\\n",
       "0  CUST149899  Titanium        1828.26      Minimum Due        461.85   \n",
       "1  CUST124585  Platinum       11301.76             Late        478.72   \n",
       "2  CUST105721      Gold       20808.79     Full Payment        473.63   \n",
       "3  CUST152960      Gold        2411.97          On-Time        555.68   \n",
       "4  CUST134069  Platinum        6888.45          On-Time        420.43   \n",
       "5  CUST114225      Gold        4453.88     Full Payment        335.30   \n",
       "6  CUST110385    Silver         296.33             Late        428.56   \n",
       "7  CUST122986    Silver        2955.51          On-Time        509.21   \n",
       "8  CUST139069    Silver       19882.33             Late        490.73   \n",
       "9  CUST142230    Silver            NaN             Late        647.32   \n",
       "\n",
       "   late_fees_collected income_bracket  customer_lifetime_months  \\\n",
       "0                82.12           High                        60   \n",
       "1                66.95         Medium                        22   \n",
       "2                48.34            Low                       101   \n",
       "3               123.99         Medium                        91   \n",
       "4               118.15            Low                        11   \n",
       "5                23.40           High                       103   \n",
       "6                47.85           High                       103   \n",
       "7                40.27      Very High                       113   \n",
       "8                  NaN           High                        99   \n",
       "9                  NaN           High                        61   \n",
       "\n",
       "      occupation  is_active  credit_limit  transactions_last_month  \n",
       "0  Self-Employed          1         64000                       25  \n",
       "1  Self-Employed          1        110000                       23  \n",
       "2        Retired          1        169000                       28  \n",
       "3        Retired          0         88000                        5  \n",
       "4        Retired          1        112000                       17  \n",
       "5       Salaried          1        161000                       31  \n",
       "6        Student          1        136000                       30  \n",
       "7       Salaried          1        214000                        6  \n",
       "8       Salaried          1        114000                       30  \n",
       "9        Retired          1        229000                       13  "
      ]
     },
     "execution_count": 6,
     "metadata": {},
     "output_type": "execute_result"
    }
   ],
   "source": [
    "# Load dataset\n",
    "df = pd.read_csv(\"credit_card_revenue_leakage.csv\")\n",
    "\n",
    "# Preview top 10 rows\n",
    "df.head(10)"
   ]
  },
  {
   "cell_type": "markdown",
   "id": "b2927be1-f0bf-4f74-b6ee-9581c993ffad",
   "metadata": {},
   "source": [
    "### Basic Data Checks\n",
    "### Check shape, null values, datatypes, and duplicates."
   ]
  },
  {
   "cell_type": "code",
   "execution_count": 8,
   "id": "f2ddc845-a0d5-469b-9a33-48bf3fa6b25b",
   "metadata": {},
   "outputs": [
    {
     "name": "stdout",
     "output_type": "stream",
     "text": [
      "Shape: (68000, 12)\n",
      "\n",
      "Data Types:\n",
      " customer_id                  object\n",
      "card_type                    object\n",
      "monthly_spend               float64\n",
      "payment_behavior             object\n",
      "fees_charged                float64\n",
      "late_fees_collected         float64\n",
      "income_bracket               object\n",
      "customer_lifetime_months      int64\n",
      "occupation                   object\n",
      "is_active                     int64\n",
      "credit_limit                  int64\n",
      "transactions_last_month       int64\n",
      "dtype: object\n"
     ]
    }
   ],
   "source": [
    "# Shape and datatypes\n",
    "print(\"Shape:\", df.shape)\n",
    "print(\"\\nData Types:\\n\", df.dtypes)"
   ]
  },
  {
   "cell_type": "code",
   "execution_count": 10,
   "id": "b40bee70-d64b-4527-bb06-a672762b15cb",
   "metadata": {},
   "outputs": [
    {
     "name": "stdout",
     "output_type": "stream",
     "text": [
      "\n",
      "Missing Values:\n",
      " customer_id                    0\n",
      "card_type                      0\n",
      "monthly_spend               3400\n",
      "payment_behavior               0\n",
      "fees_charged                3400\n",
      "late_fees_collected         3400\n",
      "income_bracket                 0\n",
      "customer_lifetime_months       0\n",
      "occupation                     0\n",
      "is_active                      0\n",
      "credit_limit                   0\n",
      "transactions_last_month        0\n",
      "dtype: int64\n"
     ]
    }
   ],
   "source": [
    "# Null value summary\n",
    "print(\"\\nMissing Values:\\n\", df.isnull().sum())"
   ]
  },
  {
   "cell_type": "code",
   "execution_count": null,
   "id": "033f2a5c-3acd-4cf8-bf7e-e45101497d1d",
   "metadata": {},
   "outputs": [],
   "source": [
    "#Missing values found in: monthly_spend, fees_charged, late_fees_collected (3,400 each)"
   ]
  },
  {
   "cell_type": "code",
   "execution_count": 14,
   "id": "9e9d086c-f414-4f2b-97ad-3270f76bd875",
   "metadata": {},
   "outputs": [
    {
     "data": {
      "text/plain": [
       "0"
      ]
     },
     "execution_count": 14,
     "metadata": {},
     "output_type": "execute_result"
    }
   ],
   "source": [
    "# Check for duplicates\n",
    "df.duplicated().sum()"
   ]
  },
  {
   "cell_type": "code",
   "execution_count": 33,
   "id": "502f3c9d-8ffd-47cf-b194-41fb57c6b4a7",
   "metadata": {},
   "outputs": [],
   "source": [
    "#Clean Missing Values\n",
    "df['monthly_spend'].fillna(0, inplace=True)\n",
    "df['fees_charged'].fillna(0, inplace=True)\n",
    "df['late_fees_collected'].fillna(0, inplace=True)\n",
    "\n"
   ]
  },
  {
   "cell_type": "code",
   "execution_count": 35,
   "id": "3b5d54ae-8a31-46f5-846b-1276e8cbb450",
   "metadata": {},
   "outputs": [
    {
     "data": {
      "text/plain": [
       "customer_id                 0\n",
       "card_type                   0\n",
       "monthly_spend               0\n",
       "payment_behavior            0\n",
       "fees_charged                0\n",
       "late_fees_collected         0\n",
       "income_bracket              0\n",
       "customer_lifetime_months    0\n",
       "occupation                  0\n",
       "is_active                   0\n",
       "credit_limit                0\n",
       "transactions_last_month     0\n",
       "spend_segment               0\n",
       "dtype: int64"
      ]
     },
     "execution_count": 35,
     "metadata": {},
     "output_type": "execute_result"
    }
   ],
   "source": [
    "# Confirm\n",
    "df.isnull().sum()"
   ]
  },
  {
   "cell_type": "markdown",
   "id": "fda776a8-9c58-4115-9881-d021f1b52201",
   "metadata": {},
   "source": [
    "## EDA (Exploratory Data Analysis)"
   ]
  },
  {
   "cell_type": "code",
   "execution_count": 19,
   "id": "ea8b767a-63f0-4919-9891-8dd501684369",
   "metadata": {},
   "outputs": [
    {
     "data": {
      "image/png": "[encoded data removed]",
      "text/plain": [
       "<Figure size 1000x500 with 1 Axes>"
      ]
     },
     "metadata": {},
     "output_type": "display_data"
    }
   ],
   "source": [
    "#Distribution of Monthly Spend\n",
    "plt.figure(figsize=(10, 5))\n",
    "sns.histplot(df['monthly_spend'], bins=50, kde=True)\n",
    "plt.title('Distribution of Monthly Spend')\n",
    "plt.xlabel('Monthly Spend (₹)')\n",
    "plt.ylabel('Number of Customers')\n",
    "plt.show()"
   ]
  },
  {
   "cell_type": "code",
   "execution_count": 23,
   "id": "4a947fb8-37d6-41f1-b4c8-efc5b3d89e7a",
   "metadata": {},
   "outputs": [
    {
     "data": {
      "image/png": "[encoded data removed]",
      "text/plain": [
       "<Figure size 600x600 with 1 Axes>"
      ]
     },
     "metadata": {},
     "output_type": "display_data"
    }
   ],
   "source": [
    "#Active vs Dormant Customers\n",
    "activity_counts = df['is_active'].value_counts()\n",
    "labels = ['Active', 'Dormant']\n",
    "\n",
    "plt.figure(figsize=(6, 6))\n",
    "plt.pie(activity_counts, labels=labels, autopct='%1.1f%%', startangle=90, colors=['#00b894', '#d63031'])\n",
    "plt.title('Active vs Dormant Customers')\n",
    "plt.show()\n"
   ]
  },
  {
   "cell_type": "code",
   "execution_count": 29,
   "id": "96401bb5-baec-4b79-9cc2-ab4eb5e65674",
   "metadata": {},
   "outputs": [
    {
     "data": {
      "image/png": "[encoded data removed]",
      "text/plain": [
       "<Figure size 800x400 with 1 Axes>"
      ]
     },
     "metadata": {},
     "output_type": "display_data"
    }
   ],
   "source": [
    "# Payment Behavior Breakdown\n",
    "plt.figure(figsize=(8, 4))\n",
    "sns.countplot(data=df, x='payment_behavior', order=df['payment_behavior'].value_counts().index, palette='viridis')\n",
    "plt.title('Payment Behavior Distribution')\n",
    "plt.ylabel('Customer Count')\n",
    "plt.xlabel('Payment Behavior')\n",
    "plt.xticks(rotation=15)\n",
    "plt.show()\n"
   ]
  },
  {
   "cell_type": "code",
   "execution_count": 39,
   "id": "2c1ce170-a4cc-42c3-b6f8-56b4f22e5730",
   "metadata": {},
   "outputs": [],
   "source": [
    "#There is data Quality Issue we can see in oabove chart as  payment_behavior has inconsistent capitalization: \"On-Time\" vs \"on-time\".\n",
    "#Lets  Fix Inconsistent Payment Behavior Values\n",
    "\n",
    "# Standardize text values to title case (e.g., 'on-time' -> 'On-Time')\n",
    "df['payment_behavior'] = df['payment_behavior'].str.title()"
   ]
  },
  {
   "cell_type": "code",
   "execution_count": 41,
   "id": "d7284db2-e664-44b0-aad7-3f939cf34cf3",
   "metadata": {},
   "outputs": [
    {
     "data": {
      "text/plain": [
       "payment_behavior\n",
       "On-Time         34215\n",
       "Minimum Due     13608\n",
       "Late            13397\n",
       "Full Payment     6780\n",
       "Name: count, dtype: int64"
      ]
     },
     "execution_count": 41,
     "metadata": {},
     "output_type": "execute_result"
    }
   ],
   "source": [
    "# Check the fixed unique values\n",
    "df['payment_behavior'].value_counts()"
   ]
  },
  {
   "cell_type": "code",
   "execution_count": 45,
   "id": "85cbe6d8-6053-4749-a21f-5579c12a2130",
   "metadata": {},
   "outputs": [
    {
     "data": {
      "image/png": "[encoded data removed]",
      "text/plain": [
       "<Figure size 800x400 with 1 Axes>"
      ]
     },
     "metadata": {},
     "output_type": "display_data"
    }
   ],
   "source": [
    "# Lets Try Now Payment Behavior Breakdown If issue is fixed or not \n",
    "plt.figure(figsize=(8, 4))\n",
    "sns.countplot(data=df, x='payment_behavior', order=df['payment_behavior'].value_counts().index, palette='viridis')\n",
    "plt.title('Payment Behavior Distribution')\n",
    "plt.ylabel('Customer Count')\n",
    "plt.xlabel('Payment Behavior')\n",
    "plt.xticks(rotation=15)\n",
    "plt.show()\n"
   ]
  },
  {
   "cell_type": "markdown",
   "id": "18de0cd9-9076-47d4-b3b6-6df14333ed3a",
   "metadata": {},
   "source": [
    "#### We'll segment customers into:\n",
    "#### High Spender: monthly_spend > ₹10,000\n",
    "#### Low Spender: monthly_spend between ₹1 and ₹10,000\n",
    "#### Dormant: monthly_spend is NaN or 0 "
   ]
  },
  {
   "cell_type": "code",
   "execution_count": 31,
   "id": "3c44930c-ac96-4f5c-97ac-0d1b7a47a7a7",
   "metadata": {},
   "outputs": [
    {
     "data": {
      "text/plain": [
       "spend_segment\n",
       "Low Spender     46062\n",
       "High Spender    18538\n",
       "Dormant          3400\n",
       "Name: count, dtype: int64"
      ]
     },
     "execution_count": 31,
     "metadata": {},
     "output_type": "execute_result"
    }
   ],
   "source": [
    "def categorize_customer(spend):\n",
    "    if pd.isna(spend) or spend == 0:\n",
    "        return 'Dormant'\n",
    "    elif spend > 10000:\n",
    "        return 'High Spender'\n",
    "    else:\n",
    "        return 'Low Spender'\n",
    "\n",
    "df['spend_segment'] = df['monthly_spend'].apply(categorize_customer)\n",
    "df['spend_segment'].value_counts()\n"
   ]
  },
  {
   "cell_type": "markdown",
   "id": "87d0c705-9047-49f9-9322-64c40ce60e64",
   "metadata": {},
   "source": [
    "# Revenue Leakage Analysis"
   ]
  },
  {
   "cell_type": "code",
   "execution_count": 48,
   "id": "20685346-e04b-47db-b4ac-624ee85866ad",
   "metadata": {},
   "outputs": [
    {
     "name": "stdout",
     "output_type": "stream",
     "text": [
      "✅ Total Revenue Collected: ₹38,751,919\n"
     ]
    }
   ],
   "source": [
    "#Total Revenue collected so far \n",
    "total_revenue = df['fees_charged'].sum() + df['late_fees_collected'].sum()\n",
    "print(f\"✅ Total Revenue Collected: ₹{total_revenue:,.0f}\")\n"
   ]
  },
  {
   "cell_type": "code",
   "execution_count": 50,
   "id": "7433bd74-9209-4faf-b572-d5b59befd270",
   "metadata": {},
   "outputs": [
    {
     "name": "stdout",
     "output_type": "stream",
     "text": [
      "⚠️ Revenue Leakage from Dormant Customers: ₹1,923,077\n"
     ]
    }
   ],
   "source": [
    "#Leakage from Dormant Customers\n",
    "dormant_df = df[df['spend_segment'] == 'Dormant']\n",
    "\n",
    "leakage_dormant = dormant_df[['fees_charged', 'late_fees_collected']].sum().sum()\n",
    "print(f\"⚠️ Revenue Leakage from Dormant Customers: ₹{leakage_dormant:,.0f}\")"
   ]
  },
  {
   "cell_type": "code",
   "execution_count": 54,
   "id": "e458b5ea-47d0-4e53-bba6-7fbc9e150e27",
   "metadata": {},
   "outputs": [
    {
     "data": {
      "text/html": [
       "<div>\n",
       "<style scoped>\n",
       "    .dataframe tbody tr th:only-of-type {\n",
       "        vertical-align: middle;\n",
       "    }\n",
       "\n",
       "    .dataframe tbody tr th {\n",
       "        vertical-align: top;\n",
       "    }\n",
       "\n",
       "    .dataframe thead th {\n",
       "        text-align: right;\n",
       "    }\n",
       "</style>\n",
       "<table border=\"1\" class=\"dataframe\">\n",
       "  <thead>\n",
       "    <tr style=\"text-align: right;\">\n",
       "      <th></th>\n",
       "      <th>fees_charged</th>\n",
       "      <th>late_fees_collected</th>\n",
       "      <th>total_revenue</th>\n",
       "    </tr>\n",
       "    <tr>\n",
       "      <th>spend_segment</th>\n",
       "      <th></th>\n",
       "      <th></th>\n",
       "      <th></th>\n",
       "    </tr>\n",
       "  </thead>\n",
       "  <tbody>\n",
       "    <tr>\n",
       "      <th>Dormant</th>\n",
       "      <td>1601976.54</td>\n",
       "      <td>321100.17</td>\n",
       "      <td>1923076.71</td>\n",
       "    </tr>\n",
       "    <tr>\n",
       "      <th>High Spender</th>\n",
       "      <td>8783468.51</td>\n",
       "      <td>1760569.87</td>\n",
       "      <td>10544038.38</td>\n",
       "    </tr>\n",
       "    <tr>\n",
       "      <th>Low Spender</th>\n",
       "      <td>21906310.71</td>\n",
       "      <td>4378492.75</td>\n",
       "      <td>26284803.46</td>\n",
       "    </tr>\n",
       "  </tbody>\n",
       "</table>\n",
       "</div>"
      ],
      "text/plain": [
       "               fees_charged  late_fees_collected  total_revenue\n",
       "spend_segment                                                  \n",
       "Dormant          1601976.54            321100.17     1923076.71\n",
       "High Spender     8783468.51           1760569.87    10544038.38\n",
       "Low Spender     21906310.71           4378492.75    26284803.46"
      ]
     },
     "execution_count": 54,
     "metadata": {},
     "output_type": "execute_result"
    }
   ],
   "source": [
    "#lets Summarize \n",
    "summary = df.groupby('spend_segment')[['fees_charged', 'late_fees_collected']].sum()\n",
    "summary['total_revenue'] = summary['fees_charged'] + summary['late_fees_collected']\n",
    "summary"
   ]
  },
  {
   "cell_type": "markdown",
   "id": "a98d4abb-7f28-43a0-a337-62849f195d96",
   "metadata": {},
   "source": [
    "# Cross-Sell Opportunity Analysis"
   ]
  },
  {
   "cell_type": "markdown",
   "id": "e3ded2f8-fafb-44ea-8013-19d080c430e8",
   "metadata": {},
   "source": [
    "## Logic to Identify Cross-Sell Candidates:\n",
    "We'll use 3 smart rules:\n",
    "High Spenders → Ideal for premium cards or travel cards\n",
    "Low Spenders with high income → EMI cards or personal loans\n",
    "Good Payment Behavior → Low-risk customers for credit upgrades"
   ]
  },
  {
   "cell_type": "code",
   "execution_count": 57,
   "id": "ae6d30a6-bef6-4d5d-ad21-c55bae82b475",
   "metadata": {},
   "outputs": [
    {
     "name": "stdout",
     "output_type": "stream",
     "text": [
      "💳 Premium Card Cross-Sell Candidates: 9291\n"
     ]
    }
   ],
   "source": [
    "premium_candidates = df[\n",
    "    (df['spend_segment'] == 'High Spender') &\n",
    "    (df['payment_behavior'] == 'On-Time')\n",
    "]\n",
    "\n",
    "print(\"💳 Premium Card Cross-Sell Candidates:\", premium_candidates.shape[0])"
   ]
  },
  {
   "cell_type": "code",
   "execution_count": 91,
   "id": "f663efac-832f-4add-a6e2-acb44d0e23a1",
   "metadata": {},
   "outputs": [
    {
     "name": "stdout",
     "output_type": "stream",
     "text": [
      "📦 EMI/Loan Cross-Sell Candidates: 0\n"
     ]
    }
   ],
   "source": [
    "#Low Spenders with High Income → EMI Card Cross-Sell\n",
    "#Let’s assume “High Income” is in the top 2 brackets: \"1L+\" and \"50K-1L\"\n",
    "emi_candidates = df[\n",
    "    (df['spend_segment'] == 'Low Spender') &\n",
    "    (df['income_bracket'].isin(['50K-1L', '1L+'])) &\n",
    "    (df['payment_behavior'] == 'On-Time')\n",
    "]\n",
    "\n",
    "print(\"📦 EMI/Loan Cross-Sell Candidates:\", emi_candidates.shape[0])\n"
   ]
  },
  {
   "cell_type": "code",
   "execution_count": 95,
   "id": "63b80b2a-6302-43c1-98d3-f4eb2450589d",
   "metadata": {},
   "outputs": [],
   "source": [
    "# Export to CSV for Power BI Dashboard Creation\n",
    "df.to_csv('cleaned_credit_card_data.csv', index=False)"
   ]
  },
  {
   "cell_type": "code",
   "execution_count": null,
   "id": "f39ea6f8-6cd0-4312-8ffe-06056a4bc588",
   "metadata": {},
   "outputs": [],
   "source": []
  }
 ],
 "metadata": {
  "kernelspec": {
   "display_name": "Python [conda env:base] *",
   "language": "python",
   "name": "conda-base-py"
  },
  "language_info": {
   "codemirror_mode": {
    "name": "ipython",
    "version": 3
   },
   "file_extension": ".py",
   "mimetype": "text/x-python",
   "name": "python",
   "nbconvert_exporter": "python",
   "pygments_lexer": "ipython3",
   "version": "3.12.7"
  }
 },
 "nbformat": 4,
 "nbformat_minor": 5
}
